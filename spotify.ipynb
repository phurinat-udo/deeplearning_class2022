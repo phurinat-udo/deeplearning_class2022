{
 "cells": [
  {
   "cell_type": "code",
   "execution_count": 1,
   "metadata": {},
   "outputs": [
    {
     "ename": "KeyboardInterrupt",
     "evalue": "",
     "output_type": "error",
     "traceback": [
      "\u001b[0;31m---------------------------------------------------------------------------\u001b[0m",
      "\u001b[0;31mKeyboardInterrupt\u001b[0m                         Traceback (most recent call last)",
      "\u001b[1;32m/Users/phurinat.udo/Library/CloudStorage/OneDrive-MahidolUniversity/Graduate Studies/Deep Learning/deeplearning_class2022/spotify.ipynb Cell 1\u001b[0m in \u001b[0;36m<cell line: 26>\u001b[0;34m()\u001b[0m\n\u001b[1;32m     <a href='vscode-notebook-cell:/Users/phurinat.udo/Library/CloudStorage/OneDrive-MahidolUniversity/Graduate%20Studies/Deep%20Learning/deeplearning_class2022/spotify.ipynb#W0sZmlsZQ%3D%3D?line=22'>23</a>\u001b[0m     features_df \u001b[39m=\u001b[39m features_df[features_for_mood]\n\u001b[1;32m     <a href='vscode-notebook-cell:/Users/phurinat.udo/Library/CloudStorage/OneDrive-MahidolUniversity/Graduate%20Studies/Deep%20Learning/deeplearning_class2022/spotify.ipynb#W0sZmlsZQ%3D%3D?line=23'>24</a>\u001b[0m     \u001b[39mreturn\u001b[39;00m features_df\n\u001b[0;32m---> <a href='vscode-notebook-cell:/Users/phurinat.udo/Library/CloudStorage/OneDrive-MahidolUniversity/Graduate%20Studies/Deep%20Learning/deeplearning_class2022/spotify.ipynb#W0sZmlsZQ%3D%3D?line=25'>26</a>\u001b[0m token \u001b[39m=\u001b[39m util\u001b[39m.\u001b[39;49mprompt_for_user_token(username\u001b[39m=\u001b[39;49m\u001b[39m'\u001b[39;49m\u001b[39mtangma_prn\u001b[39;49m\u001b[39m'\u001b[39;49m, scope\u001b[39m=\u001b[39;49m\u001b[39m'\u001b[39;49m\u001b[39muser-library-read\u001b[39;49m\u001b[39m'\u001b[39;49m,\n\u001b[1;32m     <a href='vscode-notebook-cell:/Users/phurinat.udo/Library/CloudStorage/OneDrive-MahidolUniversity/Graduate%20Studies/Deep%20Learning/deeplearning_class2022/spotify.ipynb#W0sZmlsZQ%3D%3D?line=26'>27</a>\u001b[0m                                    client_id\u001b[39m=\u001b[39;49m\u001b[39m'\u001b[39;49m\u001b[39mclientid\u001b[39;49m\u001b[39m'\u001b[39;49m,\n\u001b[1;32m     <a href='vscode-notebook-cell:/Users/phurinat.udo/Library/CloudStorage/OneDrive-MahidolUniversity/Graduate%20Studies/Deep%20Learning/deeplearning_class2022/spotify.ipynb#W0sZmlsZQ%3D%3D?line=27'>28</a>\u001b[0m                                    client_secret\u001b[39m=\u001b[39;49m\u001b[39m'\u001b[39;49m\u001b[39mclientsecret\u001b[39;49m\u001b[39m'\u001b[39;49m,\n\u001b[1;32m     <a href='vscode-notebook-cell:/Users/phurinat.udo/Library/CloudStorage/OneDrive-MahidolUniversity/Graduate%20Studies/Deep%20Learning/deeplearning_class2022/spotify.ipynb#W0sZmlsZQ%3D%3D?line=28'>29</a>\u001b[0m                                    redirect_uri\u001b[39m=\u001b[39;49m\u001b[39m'\u001b[39;49m\u001b[39mhttp://localhost:5000\u001b[39;49m\u001b[39m'\u001b[39;49m)\n\u001b[1;32m     <a href='vscode-notebook-cell:/Users/phurinat.udo/Library/CloudStorage/OneDrive-MahidolUniversity/Graduate%20Studies/Deep%20Learning/deeplearning_class2022/spotify.ipynb#W0sZmlsZQ%3D%3D?line=30'>31</a>\u001b[0m spotify \u001b[39m=\u001b[39m spotipy\u001b[39m.\u001b[39mSpotify(auth\u001b[39m=\u001b[39mtoken, requests_timeout\u001b[39m=\u001b[39m\u001b[39m20\u001b[39m)\n\u001b[1;32m     <a href='vscode-notebook-cell:/Users/phurinat.udo/Library/CloudStorage/OneDrive-MahidolUniversity/Graduate%20Studies/Deep%20Learning/deeplearning_class2022/spotify.ipynb#W0sZmlsZQ%3D%3D?line=32'>33</a>\u001b[0m playlists \u001b[39m=\u001b[39m {\n\u001b[1;32m     <a href='vscode-notebook-cell:/Users/phurinat.udo/Library/CloudStorage/OneDrive-MahidolUniversity/Graduate%20Studies/Deep%20Learning/deeplearning_class2022/spotify.ipynb#W0sZmlsZQ%3D%3D?line=33'>34</a>\u001b[0m     \u001b[39m'\u001b[39m\u001b[39mEnergetic\u001b[39m\u001b[39m'\u001b[39m:   [\u001b[39m\"\u001b[39m\u001b[39mhttps://open.spotify.com/playlist/4QDWboU5rwpDRXwYprwJf5?si=815ef93592e7475f\u001b[39m\u001b[39m\"\u001b[39m, \n\u001b[1;32m     <a href='vscode-notebook-cell:/Users/phurinat.udo/Library/CloudStorage/OneDrive-MahidolUniversity/Graduate%20Studies/Deep%20Learning/deeplearning_class2022/spotify.ipynb#W0sZmlsZQ%3D%3D?line=34'>35</a>\u001b[0m                     \u001b[39m\"\u001b[39m\u001b[39mhttps://open.spotify.com/playlist/0V32mTwWBzo6rNIk21owsY?si=1421ae7c97434fbf\u001b[39m\u001b[39m\"\u001b[39m],\n\u001b[0;32m   (...)\u001b[0m\n\u001b[1;32m     <a href='vscode-notebook-cell:/Users/phurinat.udo/Library/CloudStorage/OneDrive-MahidolUniversity/Graduate%20Studies/Deep%20Learning/deeplearning_class2022/spotify.ipynb#W0sZmlsZQ%3D%3D?line=42'>43</a>\u001b[0m                 \u001b[39m\"\u001b[39m\u001b[39mhttps://open.spotify.com/playlist/4AnAUkQNrLKlJCInZGSXRO?si=9846e647548d4026\u001b[39m\u001b[39m\"\u001b[39m,]\n\u001b[1;32m     <a href='vscode-notebook-cell:/Users/phurinat.udo/Library/CloudStorage/OneDrive-MahidolUniversity/Graduate%20Studies/Deep%20Learning/deeplearning_class2022/spotify.ipynb#W0sZmlsZQ%3D%3D?line=43'>44</a>\u001b[0m }\n",
      "File \u001b[0;32m/usr/local/lib/python3.10/site-packages/spotipy/util.py:99\u001b[0m, in \u001b[0;36mprompt_for_user_token\u001b[0;34m(username, scope, client_id, client_secret, redirect_uri, cache_path, oauth_manager, show_dialog)\u001b[0m\n\u001b[1;32m     96\u001b[0m token_info \u001b[39m=\u001b[39m sp_oauth\u001b[39m.\u001b[39mvalidate_token(sp_oauth\u001b[39m.\u001b[39mcache_handler\u001b[39m.\u001b[39mget_cached_token())\n\u001b[1;32m     98\u001b[0m \u001b[39mif\u001b[39;00m \u001b[39mnot\u001b[39;00m token_info:\n\u001b[0;32m---> 99\u001b[0m     code \u001b[39m=\u001b[39m sp_oauth\u001b[39m.\u001b[39;49mget_auth_response()\n\u001b[1;32m    100\u001b[0m     token \u001b[39m=\u001b[39m sp_oauth\u001b[39m.\u001b[39mget_access_token(code, as_dict\u001b[39m=\u001b[39m\u001b[39mFalse\u001b[39;00m)\n\u001b[1;32m    101\u001b[0m \u001b[39melse\u001b[39;00m:\n",
      "File \u001b[0;32m/usr/local/lib/python3.10/site-packages/spotipy/oauth2.py:490\u001b[0m, in \u001b[0;36mSpotifyOAuth.get_auth_response\u001b[0;34m(self, open_browser)\u001b[0m\n\u001b[1;32m    483\u001b[0m \u001b[39mif\u001b[39;00m (\n\u001b[1;32m    484\u001b[0m         open_browser\n\u001b[1;32m    485\u001b[0m         \u001b[39mand\u001b[39;00m redirect_host \u001b[39min\u001b[39;00m (\u001b[39m\"\u001b[39m\u001b[39m127.0.0.1\u001b[39m\u001b[39m\"\u001b[39m, \u001b[39m\"\u001b[39m\u001b[39mlocalhost\u001b[39m\u001b[39m\"\u001b[39m)\n\u001b[1;32m    486\u001b[0m         \u001b[39mand\u001b[39;00m redirect_info\u001b[39m.\u001b[39mscheme \u001b[39m==\u001b[39m \u001b[39m\"\u001b[39m\u001b[39mhttp\u001b[39m\u001b[39m\"\u001b[39m\n\u001b[1;32m    487\u001b[0m ):\n\u001b[1;32m    488\u001b[0m     \u001b[39m# Only start a local http server if a port is specified\u001b[39;00m\n\u001b[1;32m    489\u001b[0m     \u001b[39mif\u001b[39;00m redirect_port:\n\u001b[0;32m--> 490\u001b[0m         \u001b[39mreturn\u001b[39;00m \u001b[39mself\u001b[39;49m\u001b[39m.\u001b[39;49m_get_auth_response_local_server(redirect_port)\n\u001b[1;32m    491\u001b[0m     \u001b[39melse\u001b[39;00m:\n\u001b[1;32m    492\u001b[0m         logger\u001b[39m.\u001b[39mwarning(\u001b[39m'\u001b[39m\u001b[39mUsing `\u001b[39m\u001b[39m%s\u001b[39;00m\u001b[39m` as redirect URI without a port. \u001b[39m\u001b[39m'\u001b[39m\n\u001b[1;32m    493\u001b[0m                        \u001b[39m'\u001b[39m\u001b[39mSpecify a port (e.g. `\u001b[39m\u001b[39m%s\u001b[39;00m\u001b[39m:8080`) to allow \u001b[39m\u001b[39m'\u001b[39m\n\u001b[1;32m    494\u001b[0m                        \u001b[39m'\u001b[39m\u001b[39mautomatic retrieval of authentication code \u001b[39m\u001b[39m'\u001b[39m\n\u001b[1;32m    495\u001b[0m                        \u001b[39m'\u001b[39m\u001b[39minstead of having to copy and paste \u001b[39m\u001b[39m'\u001b[39m\n\u001b[1;32m    496\u001b[0m                        \u001b[39m'\u001b[39m\u001b[39mthe URL your browser is redirected to.\u001b[39m\u001b[39m'\u001b[39m,\n\u001b[1;32m    497\u001b[0m                        redirect_host, redirect_host)\n",
      "File \u001b[0;32m/usr/local/lib/python3.10/site-packages/spotipy/oauth2.py:459\u001b[0m, in \u001b[0;36mSpotifyOAuth._get_auth_response_local_server\u001b[0;34m(self, redirect_port)\u001b[0m\n\u001b[1;32m    457\u001b[0m server \u001b[39m=\u001b[39m start_local_http_server(redirect_port)\n\u001b[1;32m    458\u001b[0m \u001b[39mself\u001b[39m\u001b[39m.\u001b[39m_open_auth_url()\n\u001b[0;32m--> 459\u001b[0m server\u001b[39m.\u001b[39;49mhandle_request()\n\u001b[1;32m    461\u001b[0m \u001b[39mif\u001b[39;00m server\u001b[39m.\u001b[39merror \u001b[39mis\u001b[39;00m \u001b[39mnot\u001b[39;00m \u001b[39mNone\u001b[39;00m:\n\u001b[1;32m    462\u001b[0m     \u001b[39mraise\u001b[39;00m server\u001b[39m.\u001b[39merror\n",
      "File \u001b[0;32m/usr/local/Cellar/python@3.10/3.10.8/Frameworks/Python.framework/Versions/3.10/lib/python3.10/socketserver.py:294\u001b[0m, in \u001b[0;36mBaseServer.handle_request\u001b[0;34m(self)\u001b[0m\n\u001b[1;32m    291\u001b[0m selector\u001b[39m.\u001b[39mregister(\u001b[39mself\u001b[39m, selectors\u001b[39m.\u001b[39mEVENT_READ)\n\u001b[1;32m    293\u001b[0m \u001b[39mwhile\u001b[39;00m \u001b[39mTrue\u001b[39;00m:\n\u001b[0;32m--> 294\u001b[0m     ready \u001b[39m=\u001b[39m selector\u001b[39m.\u001b[39;49mselect(timeout)\n\u001b[1;32m    295\u001b[0m     \u001b[39mif\u001b[39;00m ready:\n\u001b[1;32m    296\u001b[0m         \u001b[39mreturn\u001b[39;00m \u001b[39mself\u001b[39m\u001b[39m.\u001b[39m_handle_request_noblock()\n",
      "File \u001b[0;32m/usr/local/Cellar/python@3.10/3.10.8/Frameworks/Python.framework/Versions/3.10/lib/python3.10/selectors.py:416\u001b[0m, in \u001b[0;36m_PollLikeSelector.select\u001b[0;34m(self, timeout)\u001b[0m\n\u001b[1;32m    414\u001b[0m ready \u001b[39m=\u001b[39m []\n\u001b[1;32m    415\u001b[0m \u001b[39mtry\u001b[39;00m:\n\u001b[0;32m--> 416\u001b[0m     fd_event_list \u001b[39m=\u001b[39m \u001b[39mself\u001b[39;49m\u001b[39m.\u001b[39;49m_selector\u001b[39m.\u001b[39;49mpoll(timeout)\n\u001b[1;32m    417\u001b[0m \u001b[39mexcept\u001b[39;00m \u001b[39mInterruptedError\u001b[39;00m:\n\u001b[1;32m    418\u001b[0m     \u001b[39mreturn\u001b[39;00m ready\n",
      "\u001b[0;31mKeyboardInterrupt\u001b[0m: "
     ]
    }
   ],
   "source": [
    "import spotipy\n",
    "from spotipy.oauth2 import SpotifyClientCredentials\n",
    "from spotipy import util\n",
    "import pandas as pd\n",
    "import math\n",
    "import pickle\n",
    "\n",
    "features_for_mood = ['energy', 'liveness', 'tempo', 'speechiness',\n",
    "                     'acousticness', 'instrumentalness', 'danceability', 'duration_ms',\n",
    "                     'loudness', 'valence']\n",
    "\n",
    "def get_track_features(track_ids, spotify):\n",
    "    chunk_size = 50\n",
    "    num_chunks = int(math.ceil(len(track_ids) / float(chunk_size)))\n",
    "    features_add = []\n",
    "    for i in range(num_chunks):\n",
    "        chunk_track_ids = track_ids[i * chunk_size:min((i + 1) * chunk_size, len(track_ids))]\n",
    "        chunk_features = spotify.audio_features(tracks=chunk_track_ids)\n",
    "        features_add.extend(chunk_features)\n",
    "\n",
    "    features_df = pd.DataFrame(features_add).drop(['id', 'analysis_url', 'key', 'mode', 'time_signature',\n",
    "                                                   'track_href', 'type', 'uri'], axis=1)\n",
    "    features_df = features_df[features_for_mood]\n",
    "    return features_df\n",
    "\n",
    "token = util.prompt_for_user_token(username='tangma_prn', scope='user-library-read',\n",
    "                                   client_id='clientid',\n",
    "                                   client_secret='clientsecret',\n",
    "                                   redirect_uri='http://localhost:5000')\n",
    "\n",
    "spotify = spotipy.Spotify(auth=token, requests_timeout=20)\n",
    "\n",
    "playlists = {\n",
    "    'Energetic':   [\"https://open.spotify.com/playlist/4QDWboU5rwpDRXwYprwJf5?si=815ef93592e7475f\", \n",
    "                    \"https://open.spotify.com/playlist/0V32mTwWBzo6rNIk21owsY?si=1421ae7c97434fbf\"],\n",
    "    'Relaxing':[\"https://open.spotify.com/playlist/1r4hnyOWexSvylLokn2hUa?si=a622dcb83906450f\",\n",
    "                \"https://open.spotify.com/playlist/11IcIUefRdjIpy1K5GMdOH?si=83b430249c854434\",],\n",
    "    'Dark':[\"https://open.spotify.com/playlist/52fjgY5XTdBKrk71TJks1i?si=28df39510a12411e\",\n",
    "            \"https://open.spotify.com/playlist/5xLGNk2Hqi47S1skLPIIZg?si=bb90318b09644f6a\",],\n",
    "    'Aggressive':  [\"https://open.spotify.com/playlist/0y1bZzglw6D3t5lPXRmuYS?si=57c0db5e01b9420b\",\n",
    "                    \"https://open.spotify.com/playlist/7rthAUYUFcbEeC8NS8Wh42?si=ab7f353f5f2847b3\",],\n",
    "    'Happy':   [\"https://open.spotify.com/playlist/1h90L3LP8kAJ7KGjCV2Xfd?si=5e2691af69e544a3\",\n",
    "                \"https://open.spotify.com/playlist/4AnAUkQNrLKlJCInZGSXRO?si=9846e647548d4026\",]\n",
    "}\n",
    "\n",
    "tracks = pd.DataFrame()\n",
    "moods = []\n",
    "\n",
    "for mood, links in playlists.items():\n",
    "    print (mood)\n",
    "    for link in links:\n",
    "        id = link[34:56]\n",
    "        try:\n",
    "            pl_tracks = spotify.playlist_tracks(id)['items']\n",
    "            ids = [foo['track']['id'] for foo in pl_tracks]\n",
    "        except:\n",
    "            print (link)\n",
    "            continue\n",
    "        features = get_track_features(ids, spotify)\n",
    "        features['id'] = ids\n",
    "        features['mood'] = mood\n",
    "        tracks = tracks.append(features)\n",
    "print(tracks)\n",
    "tracks.to_csv('tracks2.csv')"
   ]
  },
  {
   "cell_type": "code",
   "execution_count": null,
   "metadata": {},
   "outputs": [],
   "source": []
  }
 ],
 "metadata": {
  "kernelspec": {
   "display_name": "Python 3",
   "language": "python",
   "name": "python3"
  },
  "language_info": {
   "codemirror_mode": {
    "name": "ipython",
    "version": 3
   },
   "file_extension": ".py",
   "mimetype": "text/x-python",
   "name": "python",
   "nbconvert_exporter": "python",
   "pygments_lexer": "ipython3",
   "version": "3.10.8"
  },
  "orig_nbformat": 4,
  "vscode": {
   "interpreter": {
    "hash": "aee8b7b246df8f9039afb4144a1f6fd8d2ca17a180786b69acc140d282b71a49"
   }
  }
 },
 "nbformat": 4,
 "nbformat_minor": 2
}
